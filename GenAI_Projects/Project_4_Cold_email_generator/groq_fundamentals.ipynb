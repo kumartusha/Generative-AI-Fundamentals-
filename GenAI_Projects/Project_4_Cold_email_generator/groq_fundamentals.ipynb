{
 "cells": [
  {
   "cell_type": "code",
   "execution_count": 4,
   "id": "0f76f97c",
   "metadata": {},
   "outputs": [
    {
     "name": "stdout",
     "output_type": "stream",
     "text": [
      "The concept of a \"president\" as a head of state or government is a relatively modern development, and it's not possible to identify a single \"first president\" on Earth.\n",
      "\n",
      "However, I can provide some information on the origins of the office of the president and some of the earliest known leaders who held similar positions:\n",
      "\n",
      "* The ancient Greeks had a system of government where cities were ruled by councils of elders or leaders, known as \"archons.\" The first archon of Athens, for example, was said to be Medon, who ruled around 1048 BCE.\n",
      "* In ancient Rome, the first consul (a position similar to a president) was Lucius Junius Brutus, who served in 509 BCE.\n",
      "* The modern concept of a president as a head of state or government emerged during the Enlightenment and the American Revolution. The first president of the United States, George Washington, was inaugurated in 1789.\n",
      "* The first president of a modern nation-state is often credited to be George Washington, who set the standard for the office of the presidency in the United States.\n",
      "\n",
      "It's worth noting that the concept of a president or a head of state has evolved over time, and different cultures and civilizations have had their own systems of government and leadership. Therefore, it's difficult to identify a single \"first president\" on Earth.\n"
     ]
    }
   ],
   "source": [
    "from langchain_groq import ChatGroq\n",
    "\n",
    "llm = ChatGroq(\n",
    "    model_name =\"llama-3.1-70B-versatile\",\n",
    "    temperature=0,\n",
    "    # groq_api_key =\n",
    ")\n",
    "\n",
    "response = llm.invoke(\"First President on the Earth\")\n",
    "print(response.content)"
   ]
  }
 ],
 "metadata": {
  "kernelspec": {
   "display_name": "Python 3 (ipykernel)",
   "language": "python",
   "name": "python3"
  },
  "language_info": {
   "codemirror_mode": {
    "name": "ipython",
    "version": 3
   },
   "file_extension": ".py",
   "mimetype": "text/x-python",
   "name": "python",
   "nbconvert_exporter": "python",
   "pygments_lexer": "ipython3",
   "version": "3.12.6"
  }
 },
 "nbformat": 4,
 "nbformat_minor": 5
}
