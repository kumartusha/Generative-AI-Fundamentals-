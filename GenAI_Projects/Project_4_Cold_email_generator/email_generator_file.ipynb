{
 "cells": [
  {
   "cell_type": "code",
   "execution_count": 2,
   "id": "0eccd20e",
   "metadata": {},
   "outputs": [],
   "source": [
    "from langchain_groq import ChatGroq"
   ]
  },
  {
   "cell_type": "code",
   "execution_count": 4,
   "id": "c16ff50e",
   "metadata": {},
   "outputs": [
    {
     "name": "stdout",
     "output_type": "stream",
     "text": [
      "The first person to land on the moon was Neil Armstrong. He stepped out of the lunar module Eagle and onto the moon's surface on July 20, 1969, during the Apollo 11 mission. Armstrong famously declared, \"That's one small step for man, one giant leap for mankind,\" as he became the first human to set foot on the moon.\n"
     ]
    }
   ],
   "source": [
    "llm = ChatGroq(\n",
    "    temperature=0, \n",
    "    # groq_api_key='', \n",
    "    model_name=\"llama-3.1-70b-versatile\"\n",
    ")\n",
    "response = llm.invoke(\"The first person to land on moon was ...\")\n",
    "print(response.content)"
   ]
  },
  {
   "cell_type": "code",
   "execution_count": 8,
   "id": "90d33612",
   "metadata": {},
   "outputs": [
    {
     "name": "stdout",
     "output_type": "stream",
     "text": [
      "\n",
      "         Job Details | Atlassian                                  Close   View this page in your language?   All languages   Choose your language    中文   Deutsch   English   Español   Français   Italiano   한국어   Nederlands   日本語   Português   Pусский   Polski                            Get it free     Products    Featured    Developers    Product Managers    IT professionals    Business Teams    Leadership Teams       Featured   Developers   Product Managers   IT professionals   Business Teams   Leadership Teams    See all products       Featured            Jira  Flexible project management             Confluence  Knowledge, all in one place             Jira Service Management  High-velocity service delivery             Trello  Organized & visualized work             Rovo NEW  Unlock enterprise knowledge             Jira Product Discovery NEW  Capture & prioritize ideas             Compass NEW  Optimize software health             Guard NEW  Enhanced cloud security             Loom NEW  Quick, async video updates          Developers            Jira  Flexible project management             Bitbucket  Collaborative code repos             Compass NEW  Optimize software health          Product Managers            Jira  Flexible project management             Confluence  Knowledge, all in one place             Jira Product Discovery NEW  Capture & prioritize ideas          IT professionals            Jira Service Management  High-velocity service delivery             Guard NEW  Enhanced cloud security          Business Teams            Jira  Flexible project management             Confluence  Knowledge, all in one place             Trello  Organized & visualized work             Loom NEW  Quick, async video updates          Leadership Teams            Jira  Flexible project management             Confluence  Knowledge, all in one place             Loom NEW  Quick, async video updates             Jira Align  Enterprise-wide work planning & value             Back      Teams          Teams            Software  Ship high-quality, innovative software faster                Marketing  Collaborative strategies for marketing success                IT  Deliver exceptional operations and support services.               solution     Work Management     IT Service Management     Agile & DevOps       By team size     Enterprise     Small business     Startup     Non-profit       By industry     Retail     Telecommunications     Professional services     Government            Back      Why Atlassian          Why Atlassian        Integrations  Connect thousands of apps to your Atlassian products        Customers  Case studies & stories powered by teamwork        FedRAMP  Compliant solutions for the public sector        Resilience  Enterprise-grade & highly performant infrastructure        Platform  Our deeply integrated, reliable & secure platform        Trust center  Ensure your data’s security, compliance & availability            Back      Resources          Resources        Customer Support  Ask questions, report bugs & give us feedback        Find Partners  Consulting, training & product customization support        Migration Program  Step-by-step guidance for your Atlassian cloud migration        University  Learn and expand your skill set for all things Atlassian           support     General inquiries     Product Advice     Partner support     Enterprise support           Technical Support     Pricing and Billing     Developer support     Purchasing & Licensing       learn     Project Management     Agile     Community     Get Started           Project Collaboration     Team Playbook     Product Documentation            Back      Enterprise    More + Less -     Get it free                   Jira   Flexible project management              Jira Service Management   High-velocity service delivery              Confluence   Knowledge, all in one place        See all products        Get it free                  Back                  Get it free                  Company              Customers     Careers          Careers Home Apply Engineering Careers Early Careers Awards Team Anywhere DEI and Sustainability Candidate Resources Talent Community       Back      Investors     Events     Blog     Contact    More + Less -               Careers              Browse Jobs     Engineering           Engineering Careers AI and Machine Learning       Back      Early Careers     Team Anywhere     DEI and Sustainability     Candidate Resources           Candidate Resources Home Tips for Applying Interviewing Career Growth Benefits and Perks Talent Community Awards       Back     More + Less -           Business Intelligence Analyst  Apply for this job    Working at AtlassianAtlassians can choose where they work – whether in an office, from home, or a combination of the two. That way, Atlassians have more control over supporting their family, personal goals, and other priorities. We can hire people in any country where we have a legal entity. Interviews and onboarding are conducted virtually, a part of being a distributed-first company.In this role, you will:Collaborate on a variety of product and business problems with a diverse set of cross-functional partners and become a trusted strategic partner through the structure and clarity of your work.Apply technical expertise with BI tools to create simple to understand data visualizationsPartner with Data Engineers and Data Scientists to define and govern key business metricsPartner with cross-functional teams to inform, influence, and execute strategy decisionsTrain partners and stakeholders on how to use and interpret BI toolsIdentify data quality issues in real time and partner with engineering teams to proactively resolve themMinimum Qualifications / Your background:Bachelor’s degree or equivalent in a STEM field (e.g. statistics, mathematics, physics, econometrics, or computer science)2+ Years of Experience in Business Intelligence or related fieldsProficiency in SQL Experience telling stories with data and familiarity with Tableau Experience working cross-functionally to collect requirements and feedback and manage a transparent backlogExperience applying your analytics skills to projects which have had impact on business strategy and performanceAbility to craft analysis into well-written contentAdditional / Desirable Qualifications:4+ Years of Experience in Business Intelligence or related fields OR 2+ Years of experience in Business Intelligence along with a post-graduate degree or equivalent in a related fieldExperience with multiple other visualization tools (e.g. R-Shiny, Microstrategy, SAP Business Objects, Looker)An understanding of the SaaS business model and important metricsOur perks & benefitsAtlassian offers a variety of perks and benefits to support you, your family and to help you engage with your local community. Our offerings include health coverage, paid volunteer days, wellness resources, and so much more. Visit go.atlassian.com/perksandbenefits to learn more.About AtlassianAt Atlassian, we're motivated by a common goal: to unleash the potential of every team. Our software products help teams all over the planet and our solutions are designed for all types of work. Team collaboration through our tools makes what may be impossible alone, possible together.We believe that the unique contributions of all Atlassians create our success. To ensure that our products and culture continue to incorporate everyone's perspectives and experience, we never discriminate based on race, religion, national origin, gender identity or expression, sexual orientation, age, or marital, veteran, or disability status. All your information will be kept confidential according to EEO guidelines.To provide you the best experience, we can support with accommodations or adjustments at any stage of the recruitment process. Simply inform our Recruitment team during your conversation with them.To learn more about our culture and hiring process, visit go.atlassian.com/crh.      Apply for this job        Join the Atlassian Talent Community Don’t see an exact role match? No problem! Join our Talent Community and stay up-to-date on company and careers updates relevant to your career.  Join now               Choose your language Deutsch English Español Français Italiano 한국어 Nederlands 日本語 Polski Português русский 中文      Privacy Policy     Notice at Collection     Limit the Use of My Sensitive Personal Information     Terms      Impressum     Copyright © 2024 Atlassian                                  \n",
      "\n"
     ]
    }
   ],
   "source": [
    "from langchain_community.document_loaders import WebBaseLoader\n",
    "\n",
    "loader = WebBaseLoader(\"https://www.atlassian.com/company/careers/details/17052\")\n",
    "page_data = loader.load().pop().page_content\n",
    "print(page_data)"
   ]
  },
  {
   "cell_type": "code",
   "execution_count": null,
   "id": "15aeb667-3a21-4690-8bfe-ae50c11dd18b",
   "metadata": {},
   "outputs": [],
   "source": []
  },
  {
   "cell_type": "code",
   "execution_count": 54,
   "id": "fd85bf6c-9a88-41f4-a7fd-64b9eac1d3d3",
   "metadata": {},
   "outputs": [
    {
     "name": "stdout",
     "output_type": "stream",
     "text": [
      "```json\n",
      "{\n",
      "  \"role\": \"Business Intelligence Analyst\",\n",
      "  \"experience\": \"2+ Years of Experience in Business Intelligence or related fields\",\n",
      "  \"skills\": [\n",
      "    \"Bachelor’s degree or equivalent in a STEM field (e.g. statistics, mathematics, physics, econometrics, or computer science)\",\n",
      "    \"Proficiency in SQL\",\n",
      "    \"Experience telling stories with data and familiarity with Tableau\",\n",
      "    \"Experience working cross-functionally to collect requirements and feedback and manage a transparent backlog\",\n",
      "    \"Experience applying your analytics skills to projects which have had impact on business strategy and performance\",\n",
      "    \"Ability to craft analysis into well-written content\"\n",
      "  ],\n",
      "  \"description\": \"Collaborate on a variety of product and business problems with a diverse set of cross-functional partners and become a trusted strategic partner through the structure and clarity of your work. Apply technical expertise with BI tools to create simple to understand data visualizations. Partner with Data Engineers and Data Scientists to define and govern key business metrics. Partner with cross-functional teams to inform, influence, and execute strategy decisions. Train partners and stakeholders on how to use and interpret BI tools. Identify data quality issues in real time and partner with engineering teams to proactively resolve them.\"\n",
      "}\n",
      "```\n"
     ]
    },
    {
     "data": {
      "text/plain": [
       "str"
      ]
     },
     "execution_count": 54,
     "metadata": {},
     "output_type": "execute_result"
    }
   ],
   "source": [
    "from langchain_core.prompts import PromptTemplate\n",
    "\n",
    "prompt_extract = PromptTemplate.from_template(\n",
    "    \"\"\"\n",
    "        ### SCRAPED TEXT FROM WEBSITE:\n",
    "        {page_data}\n",
    "        ### INSTRUCTION:\n",
    "        The scraped text is from the career's page of a website.\n",
    "        Your job is to extract the job postings and return them in JSON format containing the \n",
    "        following keys: `role`, `experience`, `all skills with proper bullet points` and `description`.\n",
    "        Only return the valid JSON.\n",
    "        ### VALID JSON (NO PREAMBLE):    \n",
    "        \"\"\"\n",
    ")\n",
    "\n",
    "chain_extract = prompt_extract | llm\n",
    "res = chain_extract.invoke(input={'page_data': page_data})\n",
    "print(res.content)\n",
    "\n",
    "type(res.content)"
   ]
  },
  {
   "cell_type": "code",
   "execution_count": null,
   "id": "a78b0716-6947-49a0-a36e-2168ed281273",
   "metadata": {},
   "outputs": [],
   "source": []
  },
  {
   "cell_type": "code",
   "execution_count": 55,
   "id": "63cc0a4e-0dfe-499b-98a6-3b24afea1eb4",
   "metadata": {},
   "outputs": [],
   "source": [
    "from langchain_core.output_parsers import JsonOutputParser\n",
    "\n",
    "json_parser = JsonOutputParser()\n",
    "json_res = json_parser.parse(res.content)\n",
    "# json_res['job_postings'][0]"
   ]
  },
  {
   "cell_type": "code",
   "execution_count": 56,
   "id": "9ee1bd99-caa2-4671-bcfc-d2c7c579fb0b",
   "metadata": {},
   "outputs": [
    {
     "data": {
      "text/plain": [
       "dict"
      ]
     },
     "execution_count": 56,
     "metadata": {},
     "output_type": "execute_result"
    }
   ],
   "source": [
    "type(json_res)"
   ]
  },
  {
   "cell_type": "markdown",
   "id": "81b77f62-d7f5-497c-bc58-33d37269970e",
   "metadata": {},
   "source": [
    "#  Now we are set up the Chroma DB.."
   ]
  },
  {
   "cell_type": "code",
   "execution_count": 57,
   "id": "8044ebbe-a797-4b35-acf0-dfc0056ace27",
   "metadata": {},
   "outputs": [
    {
     "data": {
      "text/html": [
       "<div>\n",
       "<style scoped>\n",
       "    .dataframe tbody tr th:only-of-type {\n",
       "        vertical-align: middle;\n",
       "    }\n",
       "\n",
       "    .dataframe tbody tr th {\n",
       "        vertical-align: top;\n",
       "    }\n",
       "\n",
       "    .dataframe thead th {\n",
       "        text-align: right;\n",
       "    }\n",
       "</style>\n",
       "<table border=\"1\" class=\"dataframe\">\n",
       "  <thead>\n",
       "    <tr style=\"text-align: right;\">\n",
       "      <th></th>\n",
       "      <th>Techstack</th>\n",
       "      <th>Links</th>\n",
       "    </tr>\n",
       "  </thead>\n",
       "  <tbody>\n",
       "    <tr>\n",
       "      <th>0</th>\n",
       "      <td>React, Node.js, MongoDB</td>\n",
       "      <td>https://example.com/react-portfolio</td>\n",
       "    </tr>\n",
       "    <tr>\n",
       "      <th>1</th>\n",
       "      <td>Angular,.NET, SQL Server</td>\n",
       "      <td>https://example.com/angular-portfolio</td>\n",
       "    </tr>\n",
       "    <tr>\n",
       "      <th>2</th>\n",
       "      <td>Vue.js, Ruby on Rails, PostgreSQL</td>\n",
       "      <td>https://example.com/vue-portfolio</td>\n",
       "    </tr>\n",
       "    <tr>\n",
       "      <th>3</th>\n",
       "      <td>Python, Django, MySQL</td>\n",
       "      <td>https://example.com/python-portfolio</td>\n",
       "    </tr>\n",
       "    <tr>\n",
       "      <th>4</th>\n",
       "      <td>Java, Spring Boot, Oracle</td>\n",
       "      <td>https://example.com/java-portfolio</td>\n",
       "    </tr>\n",
       "    <tr>\n",
       "      <th>5</th>\n",
       "      <td>Flutter, Firebase, GraphQL</td>\n",
       "      <td>https://example.com/flutter-portfolio</td>\n",
       "    </tr>\n",
       "    <tr>\n",
       "      <th>6</th>\n",
       "      <td>WordPress, PHP, MySQL</td>\n",
       "      <td>https://example.com/wordpress-portfolio</td>\n",
       "    </tr>\n",
       "    <tr>\n",
       "      <th>7</th>\n",
       "      <td>Magento, PHP, MySQL</td>\n",
       "      <td>https://example.com/magento-portfolio</td>\n",
       "    </tr>\n",
       "    <tr>\n",
       "      <th>8</th>\n",
       "      <td>React Native, Node.js, MongoDB</td>\n",
       "      <td>https://example.com/react-native-portfolio</td>\n",
       "    </tr>\n",
       "    <tr>\n",
       "      <th>9</th>\n",
       "      <td>iOS, Swift, Core Data</td>\n",
       "      <td>https://example.com/ios-portfolio</td>\n",
       "    </tr>\n",
       "    <tr>\n",
       "      <th>10</th>\n",
       "      <td>Android, Java, Room Persistence</td>\n",
       "      <td>https://example.com/android-portfolio</td>\n",
       "    </tr>\n",
       "    <tr>\n",
       "      <th>11</th>\n",
       "      <td>Kotlin, Android, Firebase</td>\n",
       "      <td>https://example.com/kotlin-android-portfolio</td>\n",
       "    </tr>\n",
       "    <tr>\n",
       "      <th>12</th>\n",
       "      <td>Android TV, Kotlin, Android NDK</td>\n",
       "      <td>https://example.com/android-tv-portfolio</td>\n",
       "    </tr>\n",
       "    <tr>\n",
       "      <th>13</th>\n",
       "      <td>iOS, Swift, ARKit</td>\n",
       "      <td>https://example.com/ios-ar-portfolio</td>\n",
       "    </tr>\n",
       "    <tr>\n",
       "      <th>14</th>\n",
       "      <td>Cross-platform, Xamarin, Azure</td>\n",
       "      <td>https://example.com/xamarin-portfolio</td>\n",
       "    </tr>\n",
       "    <tr>\n",
       "      <th>15</th>\n",
       "      <td>Backend, Kotlin, Spring Boot</td>\n",
       "      <td>https://example.com/kotlin-backend-portfolio</td>\n",
       "    </tr>\n",
       "    <tr>\n",
       "      <th>16</th>\n",
       "      <td>Frontend, TypeScript, Angular</td>\n",
       "      <td>https://example.com/typescript-frontend-portfolio</td>\n",
       "    </tr>\n",
       "    <tr>\n",
       "      <th>17</th>\n",
       "      <td>Full-stack, JavaScript, Express.js</td>\n",
       "      <td>https://example.com/full-stack-js-portfolio</td>\n",
       "    </tr>\n",
       "    <tr>\n",
       "      <th>18</th>\n",
       "      <td>Machine Learning, Python, TensorFlow</td>\n",
       "      <td>https://example.com/ml-python-portfolio</td>\n",
       "    </tr>\n",
       "    <tr>\n",
       "      <th>19</th>\n",
       "      <td>DevOps, Jenkins, Docker</td>\n",
       "      <td>https://example.com/devops-portfolio</td>\n",
       "    </tr>\n",
       "  </tbody>\n",
       "</table>\n",
       "</div>"
      ],
      "text/plain": [
       "                               Techstack                                              Links\n",
       "0                React, Node.js, MongoDB                https://example.com/react-portfolio\n",
       "1               Angular,.NET, SQL Server              https://example.com/angular-portfolio\n",
       "2      Vue.js, Ruby on Rails, PostgreSQL                  https://example.com/vue-portfolio\n",
       "3                  Python, Django, MySQL               https://example.com/python-portfolio\n",
       "4              Java, Spring Boot, Oracle                 https://example.com/java-portfolio\n",
       "5             Flutter, Firebase, GraphQL              https://example.com/flutter-portfolio\n",
       "6                  WordPress, PHP, MySQL            https://example.com/wordpress-portfolio\n",
       "7                    Magento, PHP, MySQL              https://example.com/magento-portfolio\n",
       "8         React Native, Node.js, MongoDB         https://example.com/react-native-portfolio\n",
       "9                  iOS, Swift, Core Data                  https://example.com/ios-portfolio\n",
       "10       Android, Java, Room Persistence              https://example.com/android-portfolio\n",
       "11             Kotlin, Android, Firebase       https://example.com/kotlin-android-portfolio\n",
       "12       Android TV, Kotlin, Android NDK           https://example.com/android-tv-portfolio\n",
       "13                     iOS, Swift, ARKit               https://example.com/ios-ar-portfolio\n",
       "14        Cross-platform, Xamarin, Azure              https://example.com/xamarin-portfolio\n",
       "15          Backend, Kotlin, Spring Boot       https://example.com/kotlin-backend-portfolio\n",
       "16         Frontend, TypeScript, Angular  https://example.com/typescript-frontend-portfolio\n",
       "17    Full-stack, JavaScript, Express.js        https://example.com/full-stack-js-portfolio\n",
       "18  Machine Learning, Python, TensorFlow            https://example.com/ml-python-portfolio\n",
       "19               DevOps, Jenkins, Docker               https://example.com/devops-portfolio"
      ]
     },
     "execution_count": 57,
     "metadata": {},
     "output_type": "execute_result"
    }
   ],
   "source": [
    "import pandas as pd\n",
    "dataset = pd.read_csv(\"my_portfolio.csv\")\n",
    "dataset"
   ]
  },
  {
   "cell_type": "code",
   "execution_count": null,
   "id": "decd13d4-364c-4bae-9cb1-b52995de3b69",
   "metadata": {},
   "outputs": [],
   "source": []
  },
  {
   "cell_type": "code",
   "execution_count": 58,
   "id": "f6257ba4-c62f-4ffe-bb82-d0b9d61fbc3c",
   "metadata": {},
   "outputs": [],
   "source": [
    "#  We need to store this data into the chromaDb. This will create the vectorstore\n",
    "import uuid\n",
    "import chromadb\n",
    "\n",
    "client = chromadb.PersistentClient('vectorstore')\n",
    "collection = client.get_or_create_collection(name=\"portfolio\")\n",
    "\n",
    "if not collection.count():\n",
    "    for _, row in dataset.iterrows():\n",
    "        collection.add(documents=row[\"Techstack\"],metadatas={\"links\": row[\"Links\"]},ids=[str(uuid.uuid4())])"
   ]
  },
  {
   "cell_type": "code",
   "execution_count": null,
   "id": "3464c732-b7e2-4502-9397-cd43432eb210",
   "metadata": {},
   "outputs": [],
   "source": []
  },
  {
   "cell_type": "code",
   "execution_count": 61,
   "id": "dead0fa3-0b94-4436-95de-cf893aaf27b6",
   "metadata": {},
   "outputs": [
    {
     "data": {
      "text/plain": [
       "[[{'links': 'https://example.com/react-portfolio'},\n",
       "  {'links': 'https://example.com/devops-portfolio'}],\n",
       " [{'links': 'https://example.com/magento-portfolio'},\n",
       "  {'links': 'https://example.com/python-portfolio'}],\n",
       " [{'links': 'https://example.com/flutter-portfolio'},\n",
       "  {'links': 'https://example.com/vue-portfolio'}],\n",
       " [{'links': 'https://example.com/kotlin-backend-portfolio'},\n",
       "  {'links': 'https://example.com/android-portfolio'}],\n",
       " [{'links': 'https://example.com/angular-portfolio'},\n",
       "  {'links': 'https://example.com/ml-python-portfolio'}],\n",
       " [{'links': 'https://example.com/wordpress-portfolio'},\n",
       "  {'links': 'https://example.com/ml-python-portfolio'}]]"
      ]
     },
     "execution_count": 61,
     "metadata": {},
     "output_type": "execute_result"
    }
   ],
   "source": [
    "links = collection.query(query_texts= job['skills'], n_results=2).get('metadatas', [])\n",
    "links"
   ]
  },
  {
   "cell_type": "code",
   "execution_count": 60,
   "id": "278f1cd6-1f87-4bc7-abb7-580872898d61",
   "metadata": {},
   "outputs": [],
   "source": [
    "job = json_res\n"
   ]
  },
  {
   "cell_type": "code",
   "execution_count": 62,
   "id": "12f44fa9-36cb-4810-8adc-76cff0e4bdbc",
   "metadata": {},
   "outputs": [
    {
     "name": "stdout",
     "output_type": "stream",
     "text": [
      "Subject: Expert Business Intelligence Solutions for Enhanced Decision-Making\n",
      "\n",
      "Dear Hiring Manager,\n",
      "\n",
      "I came across the Business Intelligence Analyst role at your esteemed organization and was impressed by the job description. As a Business Development Executive at AtliQ, I believe our company can fulfill your needs and provide tailored solutions to drive business growth.\n",
      "\n",
      "At AtliQ, we have a proven track record of empowering enterprises with scalable, optimized, and efficient solutions. Our team of experts can collaborate with your cross-functional partners to structure and clarify work, applying technical expertise with BI tools to create simple-to-understand data visualizations. We can also partner with your Data Engineers and Data Scientists to define and govern key business metrics, informing and influencing strategy decisions.\n",
      "\n",
      "Our expertise in data analysis, visualization, and interpretation can help identify data quality issues in real-time, proactively resolving them with engineering teams. We can also train your partners and stakeholders on how to use and interpret BI tools, ensuring seamless integration and adoption.\n",
      "\n",
      "To demonstrate our capabilities, I'd like to showcase some of our relevant portfolio work:\n",
      "- https://example.com/react-portfolio (React-based solutions for enhanced user experience)\n",
      "- https://example.com/python-portfolio (Python-based solutions for data analysis and machine learning)\n",
      "- https://example.com/ml-python-portfolio (Machine Learning solutions using Python for predictive analytics)\n",
      "\n",
      "These examples illustrate our ability to deliver tailored solutions that drive business impact. I'd be delighted to discuss how AtliQ can support your Business Intelligence needs and provide a customized solution to enhance your decision-making capabilities.\n",
      "\n",
      "Please feel free to contact me to schedule a call and explore how we can collaborate to drive business success.\n",
      "\n",
      "Best regards,\n",
      "\n",
      "Mohan\n",
      "Business Development Executive\n",
      "AtliQ\n"
     ]
    }
   ],
   "source": [
    "prompt_email = PromptTemplate.from_template(\n",
    "        \"\"\"\n",
    "        ### JOB DESCRIPTION:\n",
    "        {job_description}\n",
    "        \n",
    "        ### INSTRUCTION:\n",
    "        You are Mohan, a business development executive at AtliQ. AtliQ is an AI & Software Consulting company dedicated to facilitating\n",
    "        the seamless integration of business processes through automated tools. \n",
    "        Over our experience, we have empowered numerous enterprises with tailored solutions, fostering scalability, \n",
    "        process optimization, cost reduction, and heightened overall efficiency. \n",
    "        Your job is to write a cold email to the client regarding the job mentioned above describing the capability of AtliQ \n",
    "        in fulfilling their needs.\n",
    "        Also add the most relevant ones from the following links to showcase Atliq's portfolio: {link_list}\n",
    "        Remember you are Mohan, BDE at AtliQ. \n",
    "        Do not provide a preamble.\n",
    "        ### EMAIL (NO PREAMBLE):\n",
    "        \n",
    "        \"\"\"\n",
    "        )\n",
    "\n",
    "chain_email = prompt_email | llm\n",
    "res = chain_email.invoke({\"job_description\": str(job), \"link_list\": links})\n",
    "print(res.content)"
   ]
  }
 ],
 "metadata": {
  "kernelspec": {
   "display_name": "Python 3 (ipykernel)",
   "language": "python",
   "name": "python3"
  },
  "language_info": {
   "codemirror_mode": {
    "name": "ipython",
    "version": 3
   },
   "file_extension": ".py",
   "mimetype": "text/x-python",
   "name": "python",
   "nbconvert_exporter": "python",
   "pygments_lexer": "ipython3",
   "version": "3.12.6"
  }
 },
 "nbformat": 4,
 "nbformat_minor": 5
}
