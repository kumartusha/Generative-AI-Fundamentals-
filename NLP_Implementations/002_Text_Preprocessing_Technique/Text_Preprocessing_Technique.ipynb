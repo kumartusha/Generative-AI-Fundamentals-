{
 "cells": [
  {
   "cell_type": "markdown",
   "id": "572489e2-2f8a-4ddb-9f1b-4844d0a53ae0",
   "metadata": {},
   "source": [
    "# 1. Tokenization in the NLP"
   ]
  },
  {
   "cell_type": "code",
   "execution_count": 12,
   "id": "f927012a-3802-4843-ac8f-f0cad537d89f",
   "metadata": {},
   "outputs": [],
   "source": [
    "#  Text Preprocessing technique in the Natural Processing Technique..\n",
    "x = \"Natural language processing (NLP) is a subfield of computer science and especially artificial intelligence. It is primarily concerned with providing computers with the ability to process data encoded in natural language and is thus closely related to information retrieval, knowledge representation and computational linguistics, a subfield of linguistics. Typically data is collected in text corpora, using either rule-based , . statistical or neural-based approaches in machine learning and deep learning.\""
   ]
  },
  {
   "cell_type": "code",
   "execution_count": 4,
   "id": "e5df7712-34d6-470b-86f4-d59fecb3c873",
   "metadata": {},
   "outputs": [
    {
     "data": {
      "text/plain": [
       "['Natural',\n",
       " 'language',\n",
       " 'processing',\n",
       " '(',\n",
       " 'NLP',\n",
       " ')',\n",
       " 'is',\n",
       " 'a',\n",
       " 'subfield',\n",
       " 'of',\n",
       " 'computer',\n",
       " 'science',\n",
       " 'and',\n",
       " 'especially',\n",
       " 'artificial',\n",
       " 'intelligence',\n",
       " '.',\n",
       " 'It',\n",
       " 'is',\n",
       " 'primarily',\n",
       " 'concerned',\n",
       " 'with',\n",
       " 'providing',\n",
       " 'computers',\n",
       " 'with',\n",
       " 'the',\n",
       " 'ability',\n",
       " 'to',\n",
       " 'process',\n",
       " 'data',\n",
       " 'encoded',\n",
       " 'in',\n",
       " 'natural',\n",
       " 'language',\n",
       " 'and',\n",
       " 'is',\n",
       " 'thus',\n",
       " 'closely',\n",
       " 'related',\n",
       " 'to',\n",
       " 'information',\n",
       " 'retrieval',\n",
       " ',',\n",
       " 'knowledge',\n",
       " 'representation',\n",
       " 'and',\n",
       " 'computational',\n",
       " 'linguistics',\n",
       " ',',\n",
       " 'a',\n",
       " 'subfield',\n",
       " 'of',\n",
       " 'linguistics',\n",
       " '.',\n",
       " 'Typically',\n",
       " 'data',\n",
       " 'is',\n",
       " 'collected',\n",
       " 'in',\n",
       " 'text',\n",
       " 'corpora',\n",
       " ',',\n",
       " 'using',\n",
       " 'either',\n",
       " 'rule-based',\n",
       " ',',\n",
       " 'statistical',\n",
       " 'or',\n",
       " 'neural-based',\n",
       " 'approaches',\n",
       " 'in',\n",
       " 'machine',\n",
       " 'learning',\n",
       " 'and',\n",
       " 'deep',\n",
       " 'learning',\n",
       " '.']"
      ]
     },
     "execution_count": 4,
     "metadata": {},
     "output_type": "execute_result"
    }
   ],
   "source": [
    "from nltk.tokenize import word_tokenize\n",
    "w = word_tokenize(x)\n",
    "w"
   ]
  },
  {
   "cell_type": "code",
   "execution_count": 13,
   "id": "16b0a144-818c-4954-b260-323f441a9542",
   "metadata": {},
   "outputs": [
    {
     "data": {
      "text/plain": [
       "['Natural language processing (NLP) is a subfield of computer science and especially artificial intelligence.',\n",
       " 'It is primarily concerned with providing computers with the ability to process data encoded in natural language and is thus closely related to information retrieval, knowledge representation and computational linguistics, a subfield of linguistics.',\n",
       " 'Typically data is collected in text corpora, using either rule-based , .',\n",
       " 'statistical or neural-based approaches in machine learning and deep learning.']"
      ]
     },
     "execution_count": 13,
     "metadata": {},
     "output_type": "execute_result"
    }
   ],
   "source": [
    "from nltk.tokenize import sent_tokenize\n",
    "s = sent_tokenize(x)\n",
    "s"
   ]
  },
  {
   "cell_type": "code",
   "execution_count": null,
   "id": "3e6d92ac-63c6-4c94-b001-5d4e7d2decec",
   "metadata": {},
   "outputs": [],
   "source": []
  },
  {
   "cell_type": "markdown",
   "id": "4a08ffd9-c552-4372-8632-c33d5ba28a0b",
   "metadata": {},
   "source": [
    "# 2. Stop Word Removal"
   ]
  },
  {
   "cell_type": "code",
   "execution_count": 14,
   "id": "1071d80e-3ca6-4163-a13d-30b2da822afe",
   "metadata": {},
   "outputs": [
    {
     "data": {
      "text/plain": [
       "'Natural language processing (NLP) is a subfield of computer science and especially artificial intelligence. It is primarily concerned with providing computers with the ability to process data encoded in natural language and is thus closely related to information retrieval, knowledge representation and computational linguistics, a subfield of linguistics. Typically data is collected in text corpora, using either rule-based, statistical or neural-based approaches in machine learning and deep learning.'"
      ]
     },
     "execution_count": 14,
     "metadata": {},
     "output_type": "execute_result"
    }
   ],
   "source": [
    "x = \"Natural language processing (NLP) is a subfield of computer science and especially artificial intelligence. It is primarily concerned with providing computers with the ability to process data encoded in natural language and is thus closely related to information retrieval, knowledge representation and computational linguistics, a subfield of linguistics. Typically data is collected in text corpora, using either rule-based, statistical or neural-based approaches in machine learning and deep learning.\"\n",
    "x"
   ]
  },
  {
   "cell_type": "code",
   "execution_count": 15,
   "id": "76e44d77-6005-421d-82bf-ad62c2de4dc9",
   "metadata": {},
   "outputs": [],
   "source": [
    "from nltk.corpus import stopwords"
   ]
  },
  {
   "cell_type": "code",
   "execution_count": 18,
   "id": "3011574e-07fa-4926-8a6f-2d90cf78e32a",
   "metadata": {},
   "outputs": [],
   "source": [
    "# stop = stopwords.words(\"english\")\n",
    "# stop\n",
    "\n",
    "# import nltk\n",
    "# from nltk.corpus import stopwords\n",
    " \n",
    "# nltk.download('stopwords')\n",
    "# print(stopwords.words('english'))"
   ]
  },
  {
   "cell_type": "code",
   "execution_count": 46,
   "id": "fea0585a-e4ae-49e3-a275-8558e6c07f33",
   "metadata": {},
   "outputs": [
    {
     "data": {
      "text/plain": [
       "77"
      ]
     },
     "execution_count": 46,
     "metadata": {},
     "output_type": "execute_result"
    }
   ],
   "source": [
    "#  First we tokenize the text content.\n",
    "from nltk.tokenize import word_tokenize\n",
    "w = word_tokenize(x)"
   ]
  },
  {
   "cell_type": "code",
   "execution_count": 47,
   "id": "31294318-cf44-42cb-841c-ee15ed01dc2e",
   "metadata": {},
   "outputs": [
    {
     "data": {
      "text/plain": [
       "47"
      ]
     },
     "execution_count": 47,
     "metadata": {},
     "output_type": "execute_result"
    }
   ],
   "source": [
    "from nltk.corpus import stopwords\n",
    "from string import punctuation\n",
    " \n",
    "stop = list(stopwords.words('english'))\n",
    "stop_word = list(punctuation) + stop\n",
    "\n",
    "clean_word = []\n",
    "for i in w:\n",
    "    if i not in stop_word:\n",
    "        clean_word.append(i)\n",
    "\n",
    "len(w)           # 77\n",
    "len(clean_word)  # 47"
   ]
  },
  {
   "cell_type": "code",
   "execution_count": null,
   "id": "abc60b22-0704-4979-961a-92055bed1d63",
   "metadata": {},
   "outputs": [],
   "source": [
    "\n"
   ]
  },
  {
   "cell_type": "markdown",
   "id": "82e9a6d0-627f-4c81-b865-ca6fc6d21128",
   "metadata": {},
   "source": [
    "# 3. Stemming and Lemmatization in NLP"
   ]
  },
  {
   "cell_type": "code",
   "execution_count": 50,
   "id": "335a1813-438e-46db-a4e3-175a319694c3",
   "metadata": {},
   "outputs": [
    {
     "data": {
      "text/plain": [
       "'Natural language processing (NLP) is a subfield of computer science and especially artificial intelligence. It is primarily concerned with providing computers with the ability to process data encoded in natural language and is thus closely related to information retrieval, knowledge representation and computational linguistics, a subfield of linguistics. Typically data is collected in text corpora, using either rule-based, statistical or neural-based approaches in machine learning and deep learning.'"
      ]
     },
     "execution_count": 50,
     "metadata": {},
     "output_type": "execute_result"
    }
   ],
   "source": [
    "x = \"Natural language processing (NLP) is a subfield of computer science and especially artificial intelligence. It is primarily concerned with providing computers with the ability to process data encoded in natural language and is thus closely related to information retrieval, knowledge representation and computational linguistics, a subfield of linguistics. Typically data is collected in text corpora, using either rule-based, statistical or neural-based approaches in machine learning and deep learning.\"\n",
    "x"
   ]
  },
  {
   "cell_type": "code",
   "execution_count": null,
   "id": "02ae66d0-12c3-4a93-8c5a-b38c0d0ef1ec",
   "metadata": {},
   "outputs": [],
   "source": []
  },
  {
   "cell_type": "code",
   "execution_count": 56,
   "id": "b3812109-8b88-40d5-a0a7-4e051a07810a",
   "metadata": {},
   "outputs": [],
   "source": [
    "from nltk.stem import LancasterStemmer, SnowballStemmer, PorterStemmer, RegexpStemmer"
   ]
  },
  {
   "cell_type": "code",
   "execution_count": 58,
   "id": "80f8871e-bbf1-4e19-9d68-d8755f40108d",
   "metadata": {},
   "outputs": [],
   "source": [
    "la = LancasterStemmer()\n",
    "re = RegexpStemmer('ing')\n",
    "sn = SnowballStemmer('english')\n",
    "pr = PorterStemmer()"
   ]
  },
  {
   "cell_type": "code",
   "execution_count": 66,
   "id": "4d934c06-2d05-4769-9bb3-6eb4831158bb",
   "metadata": {},
   "outputs": [
    {
     "data": {
      "text/plain": [
       "('chang', 'chang', 'chang')"
      ]
     },
     "execution_count": 66,
     "metadata": {},
     "output_type": "execute_result"
    }
   ],
   "source": [
    "la.stem(\"changing\"), la.stem(\"changed\"), la.stem(\"change\")"
   ]
  },
  {
   "cell_type": "code",
   "execution_count": 67,
   "id": "c3362420-7730-477e-847e-5a07d4d1f396",
   "metadata": {},
   "outputs": [
    {
     "data": {
      "text/plain": [
       "('chang', 'changed', 'change')"
      ]
     },
     "execution_count": 67,
     "metadata": {},
     "output_type": "execute_result"
    }
   ],
   "source": [
    "re.stem(\"changing\"), re.stem(\"changed\"), re.stem(\"change\")"
   ]
  },
  {
   "cell_type": "code",
   "execution_count": 68,
   "id": "b0154cac-c5f3-453d-a7c8-a79c06c722b9",
   "metadata": {},
   "outputs": [
    {
     "data": {
      "text/plain": [
       "('chang', 'chang', 'chang')"
      ]
     },
     "execution_count": 68,
     "metadata": {},
     "output_type": "execute_result"
    }
   ],
   "source": [
    "sn.stem(\"changing\"), sn.stem(\"changed\"), sn.stem(\"change\")"
   ]
  },
  {
   "cell_type": "code",
   "execution_count": 69,
   "id": "a88ffc08-34c9-47bc-a0fb-ca00edab6661",
   "metadata": {},
   "outputs": [
    {
     "data": {
      "text/plain": [
       "('chang', 'chang', 'chang')"
      ]
     },
     "execution_count": 69,
     "metadata": {},
     "output_type": "execute_result"
    }
   ],
   "source": [
    "pr.stem(\"changing\"), pr.stem(\"changed\"), pr.stem(\"change\")"
   ]
  },
  {
   "cell_type": "code",
   "execution_count": 75,
   "id": "d5733519-9e71-4d8b-a6d0-c65b45c5b110",
   "metadata": {},
   "outputs": [],
   "source": [
    "#  Lemmanization\n",
    "from nltk.stem import WordNetLemmatizer\n",
    "wl = WordNetLemmatizer()"
   ]
  },
  {
   "cell_type": "code",
   "execution_count": 83,
   "id": "f2ebc911-1214-48b0-9581-151446b461c6",
   "metadata": {},
   "outputs": [
    {
     "data": {
      "text/plain": [
       "'mouse'"
      ]
     },
     "execution_count": 83,
     "metadata": {},
     "output_type": "execute_result"
    }
   ],
   "source": [
    "wl.lemmatize(\"mice\")"
   ]
  },
  {
   "cell_type": "code",
   "execution_count": null,
   "id": "9053a0c8-706e-46c4-9478-6b76b0894f10",
   "metadata": {},
   "outputs": [],
   "source": []
  },
  {
   "cell_type": "code",
   "execution_count": 87,
   "id": "5e6bdfdf-99f8-4c38-8b09-0de2321b0d27",
   "metadata": {},
   "outputs": [
    {
     "data": {
      "text/plain": [
       "\" My name is Tushar Kumar I'm basically from modinagar Ghaziabad and right now I'm a final year Btech Student\""
      ]
     },
     "execution_count": 87,
     "metadata": {},
     "output_type": "execute_result"
    }
   ],
   "source": [
    "#  N-Grams..\n",
    "x = \" My name is Tushar Kumar I'm basically from modinagar Ghaziabad and right now I'm a final year Btech Student\"\n",
    "x"
   ]
  },
  {
   "cell_type": "code",
   "execution_count": 88,
   "id": "c54b0221-8593-4f2c-94ed-f60976a767d2",
   "metadata": {},
   "outputs": [
    {
     "data": {
      "text/plain": [
       "['My',\n",
       " 'name',\n",
       " 'is',\n",
       " 'Tushar',\n",
       " 'Kumar',\n",
       " 'I',\n",
       " \"'m\",\n",
       " 'basically',\n",
       " 'from',\n",
       " 'modinagar',\n",
       " 'Ghaziabad',\n",
       " 'and',\n",
       " 'right',\n",
       " 'now',\n",
       " 'I',\n",
       " \"'m\",\n",
       " 'a',\n",
       " 'final',\n",
       " 'year',\n",
       " 'Btech',\n",
       " 'Student']"
      ]
     },
     "execution_count": 88,
     "metadata": {},
     "output_type": "execute_result"
    }
   ],
   "source": [
    "from nltk.tokenize import word_tokenize\n",
    "w = word_tokenize(x)\n",
    "w"
   ]
  },
  {
   "cell_type": "code",
   "execution_count": null,
   "id": "09b5d142-d77d-4f92-b3f8-bf9206944d8b",
   "metadata": {},
   "outputs": [],
   "source": []
  },
  {
   "cell_type": "code",
   "execution_count": 89,
   "id": "dea7f47a-fdd9-4394-b5da-b3f310397e1c",
   "metadata": {},
   "outputs": [],
   "source": [
    "from nltk.collocations import BigramCollocationFinder, TrigramCollocationFinder,ngrams"
   ]
  },
  {
   "cell_type": "code",
   "execution_count": 102,
   "id": "9a40b173-16c3-4e52-9426-0cf2e8fd013d",
   "metadata": {},
   "outputs": [],
   "source": [
    "bg = BigramCollocationFinder.from_words(w)\n",
    "tg = TrigramCollocationFinder.from_words(w)\n",
    "ng = ngrams(w, 10)"
   ]
  },
  {
   "cell_type": "code",
   "execution_count": 103,
   "id": "88de9e8d-2deb-48f8-9dd8-529b04c4ad7c",
   "metadata": {},
   "outputs": [
    {
     "name": "stdout",
     "output_type": "stream",
     "text": [
      "('My', 'name', 'is', 'Tushar', 'Kumar', 'I', \"'m\", 'basically', 'from', 'modinagar')\n",
      "('name', 'is', 'Tushar', 'Kumar', 'I', \"'m\", 'basically', 'from', 'modinagar', 'Ghaziabad')\n",
      "('is', 'Tushar', 'Kumar', 'I', \"'m\", 'basically', 'from', 'modinagar', 'Ghaziabad', 'and')\n",
      "('Tushar', 'Kumar', 'I', \"'m\", 'basically', 'from', 'modinagar', 'Ghaziabad', 'and', 'right')\n",
      "('Kumar', 'I', \"'m\", 'basically', 'from', 'modinagar', 'Ghaziabad', 'and', 'right', 'now')\n",
      "('I', \"'m\", 'basically', 'from', 'modinagar', 'Ghaziabad', 'and', 'right', 'now', 'I')\n",
      "(\"'m\", 'basically', 'from', 'modinagar', 'Ghaziabad', 'and', 'right', 'now', 'I', \"'m\")\n",
      "('basically', 'from', 'modinagar', 'Ghaziabad', 'and', 'right', 'now', 'I', \"'m\", 'a')\n",
      "('from', 'modinagar', 'Ghaziabad', 'and', 'right', 'now', 'I', \"'m\", 'a', 'final')\n",
      "('modinagar', 'Ghaziabad', 'and', 'right', 'now', 'I', \"'m\", 'a', 'final', 'year')\n",
      "('Ghaziabad', 'and', 'right', 'now', 'I', \"'m\", 'a', 'final', 'year', 'Btech')\n",
      "('and', 'right', 'now', 'I', \"'m\", 'a', 'final', 'year', 'Btech', 'Student')\n"
     ]
    }
   ],
   "source": [
    "# bg.ngram_fd.keys()\n",
    "# bg.ngram_fd.values()\n",
    "\n",
    "# tg.ngram_fd.keys()\n",
    "# tg.ngram_fd.values()\n",
    "\n",
    "#  for the ngram because it is the zip file format..\n",
    "for i in ng:\n",
    "    print(i)"
   ]
  },
  {
   "cell_type": "code",
   "execution_count": null,
   "id": "7812d5e1-9894-47b7-b415-fecbc691e49a",
   "metadata": {},
   "outputs": [],
   "source": []
  },
  {
   "cell_type": "code",
   "execution_count": null,
   "id": "4d3ae8d7-8211-4efb-ba23-8091aeeb5c8c",
   "metadata": {},
   "outputs": [],
   "source": []
  },
  {
   "cell_type": "code",
   "execution_count": 105,
   "id": "a1f4a3d1-d39c-4f6e-a914-25d3f3c847c1",
   "metadata": {},
   "outputs": [
    {
     "data": {
      "text/plain": [
       "\" My name is Tushar Kumar I'm basically from modinagar Ghaziabad and right now I'm a final year Btech Student\""
      ]
     },
     "execution_count": 105,
     "metadata": {},
     "output_type": "execute_result"
    }
   ],
   "source": [
    "# Count Vectorizer.\n",
    "x = \" My name is Tushar Kumar I'm basically from modinagar Ghaziabad and right now I'm a final year Btech Student\"\n",
    "x"
   ]
  },
  {
   "cell_type": "code",
   "execution_count": null,
   "id": "8183331f-8d21-4874-8487-90f320749e80",
   "metadata": {},
   "outputs": [],
   "source": []
  },
  {
   "cell_type": "code",
   "execution_count": 106,
   "id": "7161ad9d-179c-4244-9bfc-53448a59b661",
   "metadata": {},
   "outputs": [],
   "source": [
    "list1 = [\"My name is tushar kumar\", \"My name is gaurav\"]\n",
    "import pandas as pd"
   ]
  },
  {
   "cell_type": "code",
   "execution_count": 107,
   "id": "cad55221-7dae-4063-977f-acad4eb19602",
   "metadata": {},
   "outputs": [
    {
     "data": {
      "text/html": [
       "<div>\n",
       "<style scoped>\n",
       "    .dataframe tbody tr th:only-of-type {\n",
       "        vertical-align: middle;\n",
       "    }\n",
       "\n",
       "    .dataframe tbody tr th {\n",
       "        vertical-align: top;\n",
       "    }\n",
       "\n",
       "    .dataframe thead th {\n",
       "        text-align: right;\n",
       "    }\n",
       "</style>\n",
       "<table border=\"1\" class=\"dataframe\">\n",
       "  <thead>\n",
       "    <tr style=\"text-align: right;\">\n",
       "      <th></th>\n",
       "      <th>name</th>\n",
       "    </tr>\n",
       "  </thead>\n",
       "  <tbody>\n",
       "    <tr>\n",
       "      <th>0</th>\n",
       "      <td>My name is tushar kumar</td>\n",
       "    </tr>\n",
       "    <tr>\n",
       "      <th>1</th>\n",
       "      <td>My name is gaurav</td>\n",
       "    </tr>\n",
       "  </tbody>\n",
       "</table>\n",
       "</div>"
      ],
      "text/plain": [
       "                      name\n",
       "0  My name is tushar kumar\n",
       "1        My name is gaurav"
      ]
     },
     "execution_count": 107,
     "metadata": {},
     "output_type": "execute_result"
    }
   ],
   "source": [
    "df = pd.DataFrame({\"name\": list1})\n",
    "df"
   ]
  },
  {
   "cell_type": "code",
   "execution_count": 108,
   "id": "382a25f2-4758-4a92-baa7-3c2ecb1d4691",
   "metadata": {},
   "outputs": [],
   "source": [
    "from sklearn.feature_extraction.text import CountVectorizer"
   ]
  },
  {
   "cell_type": "code",
   "execution_count": 109,
   "id": "4d4cf1e0-90fc-4b0d-b24f-05163f398dbd",
   "metadata": {},
   "outputs": [],
   "source": [
    "cv = CountVectorizer()"
   ]
  },
  {
   "cell_type": "code",
   "execution_count": 112,
   "id": "cad25f15-9828-4931-ae08-cd7a726c8e27",
   "metadata": {},
   "outputs": [],
   "source": [
    "new_data = cv.fit_transform(df[\"name\"]).toarray()"
   ]
  },
  {
   "cell_type": "code",
   "execution_count": 113,
   "id": "7298bd59-6109-4804-b7bc-35b8a3afa0a7",
   "metadata": {},
   "outputs": [
    {
     "data": {
      "text/plain": [
       "array([[0, 1, 1, 1, 1, 1],\n",
       "       [1, 1, 0, 1, 1, 0]], dtype=int64)"
      ]
     },
     "execution_count": 113,
     "metadata": {},
     "output_type": "execute_result"
    }
   ],
   "source": [
    "new_data"
   ]
  },
  {
   "cell_type": "code",
   "execution_count": 115,
   "id": "cf30208d-0c31-46e4-9246-4a45227dad46",
   "metadata": {},
   "outputs": [
    {
     "data": {
      "text/plain": [
       "{'my': 3, 'name': 4, 'is': 1, 'tushar': 5, 'kumar': 2, 'gaurav': 0}"
      ]
     },
     "execution_count": 115,
     "metadata": {},
     "output_type": "execute_result"
    }
   ],
   "source": [
    "cv.vocabulary_"
   ]
  },
  {
   "cell_type": "code",
   "execution_count": null,
   "id": "e62a23fe-a35d-415f-b712-7e9af9ab9a35",
   "metadata": {},
   "outputs": [],
   "source": []
  },
  {
   "cell_type": "code",
   "execution_count": null,
   "id": "3bb37cc4-294e-4ffa-ab09-2b983811b862",
   "metadata": {},
   "outputs": [],
   "source": []
  },
  {
   "cell_type": "code",
   "execution_count": 137,
   "id": "5b06516f-27ef-4591-bf6b-72cf769b930c",
   "metadata": {},
   "outputs": [
    {
     "data": {
      "text/plain": [
       "'star present in the sky'"
      ]
     },
     "execution_count": 137,
     "metadata": {},
     "output_type": "execute_result"
    }
   ],
   "source": [
    "x = \"star present in the sky\"\n",
    "x"
   ]
  },
  {
   "cell_type": "code",
   "execution_count": null,
   "id": "b5aa482a-430f-44a0-89c1-c79101d5674a",
   "metadata": {},
   "outputs": [],
   "source": []
  },
  {
   "cell_type": "code",
   "execution_count": 138,
   "id": "40b628a0-9d64-4975-8238-f49b4103ecd9",
   "metadata": {},
   "outputs": [],
   "source": [
    "from nltk.wsd import lesk\n",
    "from nltk.tokenize import word_tokenize"
   ]
  },
  {
   "cell_type": "code",
   "execution_count": 140,
   "id": "6ae37368-c222-4934-bc65-af1b0a0901f5",
   "metadata": {},
   "outputs": [],
   "source": [
    "l = lesk(word_tokenize(x), \"star\")"
   ]
  },
  {
   "cell_type": "code",
   "execution_count": 141,
   "id": "3b50e03a-90c8-4cfb-8e1d-0b289bdcf446",
   "metadata": {},
   "outputs": [
    {
     "data": {
      "text/plain": [
       "(Synset('star.v.02'), 'be the star in a performance')"
      ]
     },
     "execution_count": 141,
     "metadata": {},
     "output_type": "execute_result"
    }
   ],
   "source": [
    "l, l.definition()"
   ]
  },
  {
   "cell_type": "code",
   "execution_count": null,
   "id": "5fffa8c5-c59e-4163-bf54-69971a48fb54",
   "metadata": {},
   "outputs": [],
   "source": []
  }
 ],
 "metadata": {
  "kernelspec": {
   "display_name": "Python 3 (ipykernel)",
   "language": "python",
   "name": "python3"
  },
  "language_info": {
   "codemirror_mode": {
    "name": "ipython",
    "version": 3
   },
   "file_extension": ".py",
   "mimetype": "text/x-python",
   "name": "python",
   "nbconvert_exporter": "python",
   "pygments_lexer": "ipython3",
   "version": "3.12.6"
  }
 },
 "nbformat": 4,
 "nbformat_minor": 5
}
