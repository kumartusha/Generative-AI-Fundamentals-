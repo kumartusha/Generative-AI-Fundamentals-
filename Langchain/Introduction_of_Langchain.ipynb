{
 "cells": [
  {
   "cell_type": "code",
   "execution_count": 3,
   "id": "9b979452-a7fe-4456-acff-15d8f86fb7e3",
   "metadata": {},
   "outputs": [],
   "source": [
    "# import os\n"
   ]
  },
  {
   "cell_type": "code",
   "execution_count": 4,
   "id": "c434eca8-cee3-4875-98db-7ea6aa5b67f6",
   "metadata": {},
   "outputs": [
    {
     "name": "stderr",
     "output_type": "stream",
     "text": [
      "C:\\Users\\USER\\AppData\\Local\\Temp\\ipykernel_10332\\4067526858.py:6: LangChainDeprecationWarning: The class `OpenAI` was deprecated in LangChain 0.0.10 and will be removed in 1.0. An updated version of the class exists in the :class:`~langchain-openai package and should be used instead. To use it run `pip install -U :class:`~langchain-openai` and import as `from :class:`~langchain_openai import OpenAI``.\n",
      "  llm = OpenAI(temperature = 0.6)\n"
     ]
    }
   ],
   "source": [
    "#  temp is just like a parameter that define the risk taking capability for the models..\n",
    "# If temperature are 0 means that the model dont take any kind of risk and its safe..\n",
    "# If the temperature 1 means that it takes the risk and improve the creativity\n",
    "# llm = OpenAI(temperature = 0.6)\n",
    "# name = llm(\"I want to open a restaurent for the indian food. Suggest the fancy name for this.\")\n",
    "# print(name)"
   ]
  },
  {
   "cell_type": "code",
   "execution_count": 5,
   "id": "910ba7e1-483c-4c08-9a48-f8059db60d78",
   "metadata": {},
   "outputs": [
    {
     "data": {
      "text/plain": [
       "'I want to open Italian'"
      ]
     },
     "execution_count": 5,
     "metadata": {},
     "output_type": "execute_result"
    }
   ],
   "source": [
    "# from langchain.prompts import PromptTemplate\n",
    "\n",
    "# prompt_template_name = PromptTemplate(\n",
    "#     input_variables = ['cuisine'],\n",
    "#     template = \"I want to open {cuisine}\",\n",
    "# )\n",
    "\n",
    "# prompt_template_name.format(cuisine= \"Italian\")"
   ]
  },
  {
   "cell_type": "code",
   "execution_count": 6,
   "id": "1c406de3-4850-43ef-aef3-b986cb6d3bb4",
   "metadata": {},
   "outputs": [
    {
     "name": "stderr",
     "output_type": "stream",
     "text": [
      "C:\\Users\\USER\\AppData\\Local\\Temp\\ipykernel_10332\\980184806.py:3: LangChainDeprecationWarning: The class `LLMChain` was deprecated in LangChain 0.1.17 and will be removed in 1.0. Use :meth:`~RunnableSequence, e.g., `prompt | llm`` instead.\n",
      "  chain = LLMChain(llm = llm, prompt = prompt_template_name)\n",
      "C:\\Users\\USER\\AppData\\Local\\Temp\\ipykernel_10332\\980184806.py:4: LangChainDeprecationWarning: The method `Chain.run` was deprecated in langchain 0.1.0 and will be removed in 1.0. Use :meth:`~invoke` instead.\n",
      "  print(chain.run(\"Mexican \"))\n"
     ]
    },
    {
     "name": "stdout",
     "output_type": "stream",
     "text": [
      "restaurant\n",
      "\n",
      "Opening a Mexican restaurant can be a fun and exciting venture. Here are some steps you can follow to help you get started:\n",
      "\n",
      "1. Research the market: Before opening your restaurant, it's important to do some research on the current market for Mexican cuisine in your area. Look at other Mexican restaurants in the area and see what they offer and how they are doing. This will help you understand the competition and identify potential gaps in the market.\n",
      "\n",
      "2. Develop a business plan: A business plan will help you outline your goals, target audience, menu, pricing, and marketing strategies. It will also help you determine the start-up costs and projected revenue for your restaurant.\n",
      "\n",
      "3. Choose a location: The location of your restaurant can greatly impact its success. Look for a location with high foot traffic and easy access for customers. You should also consider the demographics of the area and if there is a demand for Mexican cuisine.\n",
      "\n",
      "4. Create a menu: Your menu is the heart of your restaurant. Research traditional Mexican dishes and create a menu that will appeal to a wide range of customers. You can also add your own twist to some dishes to make your restaurant stand out.\n",
      "\n",
      "5. Get necessary permits and licenses: Before opening your restaurant, you will need to obtain the necessary permits\n"
     ]
    }
   ],
   "source": [
    "# from langchain.chains import LLMChain\n",
    "\n",
    "# chain = LLMChain(llm = llm, prompt = prompt_template_name)\n",
    "# print(chain.run(\"Mexican\"))"
   ]
  },
  {
   "cell_type": "code",
   "execution_count": null,
   "id": "a0831a21-7bc9-458b-b25b-624afb16c2db",
   "metadata": {},
   "outputs": [],
   "source": [
    "# "
   ]
  },
  {
   "cell_type": "code",
   "execution_count": null,
   "id": "18c230ec-a49e-44bb-a684-d0d3a4c98880",
   "metadata": {},
   "outputs": [],
   "source": [
    "# "
   ]
  }
 ],
 "metadata": {
  "kernelspec": {
   "display_name": "Python 3 (ipykernel)",
   "language": "python",
   "name": "python3"
  },
  "language_info": {
   "codemirror_mode": {
    "name": "ipython",
    "version": 3
   },
   "file_extension": ".py",
   "mimetype": "text/x-python",
   "name": "python",
   "nbconvert_exporter": "python",
   "pygments_lexer": "ipython3",
   "version": "3.12.6"
  }
 },
 "nbformat": 4,
 "nbformat_minor": 5
}
